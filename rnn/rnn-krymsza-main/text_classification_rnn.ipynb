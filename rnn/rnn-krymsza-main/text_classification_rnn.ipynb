{
  "nbformat": 4,
  "nbformat_minor": 0,
  "metadata": {
    "accelerator": "GPU",
    "colab": {
      "name": "text_classification_rnn.ipynb",
      "provenance": [],
      "collapsed_sections": [],
      "toc_visible": true
    },
    "kernelspec": {
      "display_name": "Python 3",
      "name": "python3"
    }
  },
  "cells": [
    {
      "cell_type": "markdown",
      "metadata": {
        "id": "9TnJztDZGw-n"
      },
      "source": [
        "# Text classification with an RNN"
      ]
    },
    {
      "cell_type": "markdown",
      "metadata": {
        "id": "lUWearf0Gw-p"
      },
      "source": [
        "This text classification tutorial trains a [recurrent neural network](https://developers.google.com/machine-learning/glossary/#recurrent_neural_network) on the [IMDB large movie review dataset](http://ai.stanford.edu/~amaas/data/sentiment/) for sentiment analysis."
      ]
    },
    {
      "cell_type": "markdown",
      "metadata": {
        "id": "_2VQo4bajwUU"
      },
      "source": [
        "## Setup"
      ]
    },
    {
      "cell_type": "code",
      "metadata": {
        "id": "z682XYsrjkY9"
      },
      "source": [
        "import numpy as np\n",
        "\n",
        "import tensorflow_datasets as tfds\n",
        "import tensorflow as tf\n",
        "\n",
        "tfds.disable_progress_bar()"
      ],
      "execution_count": 1,
      "outputs": []
    },
    {
      "cell_type": "markdown",
      "metadata": {
        "id": "1rXHa-w9JZhb"
      },
      "source": [
        "Import `matplotlib` and create a helper function to plot graphs:"
      ]
    },
    {
      "cell_type": "code",
      "metadata": {
        "id": "Mp1Z7P9pYRSK"
      },
      "source": [
        "import matplotlib.pyplot as plt\n",
        "\n",
        "\n",
        "def plot_graphs(history, metric):\n",
        "  plt.plot(history.history[metric])\n",
        "  plt.plot(history.history['val_'+metric], '')\n",
        "  plt.xlabel(\"Epochs\")\n",
        "  plt.ylabel(metric)\n",
        "  plt.legend([metric, 'val_'+metric])"
      ],
      "execution_count": 2,
      "outputs": []
    },
    {
      "cell_type": "markdown",
      "metadata": {
        "id": "pRmMubr0jrE2"
      },
      "source": [
        "## Setup input pipeline\n",
        "\n",
        "\n",
        "The IMDB large movie review dataset is a *binary classification* dataset—all the reviews have either a *positive* or *negative* sentiment.\n",
        "\n",
        "Download the dataset using [TFDS](https://www.tensorflow.org/datasets). See the [loading text tutorial](../load_data/text.ipynb) for details on how to load this sort of data manually.\n"
      ]
    },
    {
      "cell_type": "code",
      "metadata": {
        "id": "SHRwRoP2nVHX",
        "colab": {
          "base_uri": "https://localhost:8080/"
        },
        "outputId": "49046c18-eb50-4c4e-866d-516f9196af7b"
      },
      "source": [
        "dataset, info = tfds.load('imdb_reviews', with_info=True,\n",
        "                          as_supervised=True)\n",
        "train_dataset, test_dataset = dataset['train'], dataset['test']\n",
        "\n",
        "train_dataset.element_spec"
      ],
      "execution_count": 3,
      "outputs": [
        {
          "output_type": "stream",
          "text": [
            "\u001b[1mDownloading and preparing dataset imdb_reviews/plain_text/1.0.0 (download: 80.23 MiB, generated: Unknown size, total: 80.23 MiB) to /root/tensorflow_datasets/imdb_reviews/plain_text/1.0.0...\u001b[0m\n",
            "Shuffling and writing examples to /root/tensorflow_datasets/imdb_reviews/plain_text/1.0.0.incompleteADW9RK/imdb_reviews-train.tfrecord\n",
            "Shuffling and writing examples to /root/tensorflow_datasets/imdb_reviews/plain_text/1.0.0.incompleteADW9RK/imdb_reviews-test.tfrecord\n",
            "Shuffling and writing examples to /root/tensorflow_datasets/imdb_reviews/plain_text/1.0.0.incompleteADW9RK/imdb_reviews-unsupervised.tfrecord\n"
          ],
          "name": "stdout"
        },
        {
          "output_type": "stream",
          "text": [
            "WARNING:absl:Dataset is using deprecated text encoder API which will be removed soon. Please use the plain_text version of the dataset and migrate to `tensorflow_text`.\n"
          ],
          "name": "stderr"
        },
        {
          "output_type": "stream",
          "text": [
            "\u001b[1mDataset imdb_reviews downloaded and prepared to /root/tensorflow_datasets/imdb_reviews/plain_text/1.0.0. Subsequent calls will reuse this data.\u001b[0m\n"
          ],
          "name": "stdout"
        },
        {
          "output_type": "execute_result",
          "data": {
            "text/plain": [
              "(TensorSpec(shape=(), dtype=tf.string, name=None),\n",
              " TensorSpec(shape=(), dtype=tf.int64, name=None))"
            ]
          },
          "metadata": {
            "tags": []
          },
          "execution_count": 3
        }
      ]
    },
    {
      "cell_type": "markdown",
      "metadata": {
        "id": "nWA4c2ir7g6p"
      },
      "source": [
        "Initially this returns a dataset of (text, label pairs):"
      ]
    },
    {
      "cell_type": "code",
      "metadata": {
        "id": "vd4_BGKyurao",
        "colab": {
          "base_uri": "https://localhost:8080/"
        },
        "outputId": "deb1d35b-3eaa-44d7-e277-5a9352fad0ef"
      },
      "source": [
        "for example, label in train_dataset.take(1):\n",
        "  print('text: ', example.numpy())\n",
        "  print('label: ', label.numpy())"
      ],
      "execution_count": 4,
      "outputs": [
        {
          "output_type": "stream",
          "text": [
            "text:  b\"This was an absolutely terrible movie. Don't be lured in by Christopher Walken or Michael Ironside. Both are great actors, but this must simply be their worst role in history. Even their great acting could not redeem this movie's ridiculous storyline. This movie is an early nineties US propaganda piece. The most pathetic scenes were those when the Columbian rebels were making their cases for revolutions. Maria Conchita Alonso appeared phony, and her pseudo-love affair with Walken was nothing but a pathetic emotional plug in a movie that was devoid of any real meaning. I am disappointed that there are movies like this, ruining actor's like Christopher Walken's good name. I could barely sit through it.\"\n",
            "label:  0\n"
          ],
          "name": "stdout"
        }
      ]
    },
    {
      "cell_type": "markdown",
      "metadata": {
        "id": "z2qVJzcEluH_"
      },
      "source": [
        "Next shuffle the data for training and create batches of these `(text, label)` pairs:"
      ]
    },
    {
      "cell_type": "code",
      "metadata": {
        "id": "dDsCaZCDYZgm"
      },
      "source": [
        "BUFFER_SIZE = 10000\n",
        "BATCH_SIZE = 64"
      ],
      "execution_count": 5,
      "outputs": []
    },
    {
      "cell_type": "code",
      "metadata": {
        "id": "VznrltNOnUc5"
      },
      "source": [
        "train_dataset = train_dataset.shuffle(BUFFER_SIZE).batch(BATCH_SIZE).prefetch(tf.data.AUTOTUNE)\n",
        "test_dataset = test_dataset.batch(BATCH_SIZE).prefetch(tf.data.AUTOTUNE)"
      ],
      "execution_count": 6,
      "outputs": []
    },
    {
      "cell_type": "code",
      "metadata": {
        "id": "jqkvdcFv41wC",
        "colab": {
          "base_uri": "https://localhost:8080/"
        },
        "outputId": "9fc3dd1a-1700-449b-cdba-2afa48f28467"
      },
      "source": [
        "for example, label in train_dataset.take(1):\n",
        "  print('texts: ', example.numpy()[:3])\n",
        "  print()\n",
        "  print('labels: ', label.numpy()[:3])"
      ],
      "execution_count": 7,
      "outputs": [
        {
          "output_type": "stream",
          "text": [
            "texts:  [b\"I married a Japanese woman 14 years ago. We're still together.<br /><br />However in the 1950's it would never have been as easy.<br /><br />Life in the military had been mined for action, drama, and comedy for years by this point. Mined to death. The mixed relationships gave it new ground to cover. This is old hat today, but then...? Marrying an Asian back then meant you either owed somebody something or you were a freak of some sort. This touched on both possibilities along with the third. Maybe it IS love? <br /><br />Brando did his usual good job. Garner did a better job than he usually does. He's good, but this showed how good he could be. Umecki-chan had a helluva debut here and while I think she earned her statue, she didn't really stretch. It was a role that no one who hadn't been overseas would have recognized and the newness was the corker.<br /><br />The real scene stealer was Red Buttons. Red was the best thing in this film. Bank on it. And the Japanese lifestyles were shown in an admirable light as well.<br /><br />A classic.\"\n",
            " b\"As much as I dislike saying 'me too' in response to other comments - it's completely true that the first 30 minutes of this film have nothing whatsoever to do with the endless dirge that comprises the following 90.<br /><br />Having been banned somewhere doesn't make a film watchable. Just because it doesn't resemble a Hollywood product does not make it credible.<br /><br />Worse yet, in addition to no discernible plot (other than there are lots of muddy places in Russia and many people, even very old women, drink lots of vodka) a number of visuals are so unnecessarily nauseating I'm in to my second package of Rolaids.<br /><br />As for spoilers - well, the film is so devoid of any narrative thread I couldn't write one if I tried.<br /><br />Don't waste your time or money, and don't confuse this with good Russian cinema.\"\n",
            " b'THIS POST MAY CONTAIN SPOILERS :<br /><br />Although it was 5 years after the series ended and WB was currently working on Justice League, this animated movie is a welcome addition to the video library. Why? Well, if Mask of the Phantasm compliments the first 70 episodes of Batman: The Animated Series and SubZero compliments the 15 episodes of the Adventures of Batman and Robin, then Mystery of the Batwoman compliments the final 24 episodes of the Gotham Knights version of Batman. Kevin Conroy once again delivers a voice over performance that is nothing short of excellence and perfection. I admit I was a bit leery when I heard about Batwoman and all I could think about were the old 50\\'s comics of Batman. But I was blown away by the Batwoman character, her look, her costume (which I assumed inspired Bruce Wayne to create the costume on Batman Beyond)and the fact that this movie keeps you guessing who Batwoman is all the way through. If you want to know who Batwoman is, then buy or rent the DVD. Barbara Gordon makes a cameo appearance and I think the writers were trying to hint that Bruce and Barbara had something going on between them like they did in Batman Beyond. Tim Drake appears as Robin, but his role is a small one and sadly, there is no sign of or mention of Dick Grayson alias Nightwing, which leads me to believe he has established himself in Bludhaven (his city in the comics).<br /><br />Of the three suspects for Batwoman, my favorite is Kathy Duquesne, who looks an awful lot like Halle Berry. Kelly Ripa did a great job as one of the other suspects. When it comes to the villains, I\\'m glad the Penguin was one of them, but I did not like the fact that they replaced Paul Williams with David Ogden Stiers. Pengy just didn\\'t sound right. Same thing goes for Robin. The new guy did okay, but just as I was starting to get used to Matt Valencia, they replaced him. It\\'s interesting to note that Kevin Michael Richardson, who voices Carlton Duquesne is now the voice of the Joker in \"The Batman\" series. And we finally see what Rupert Thorne looks like revamped since he didn\\'t show up in the Gotham Knights episodes. The late John Vernon will be missed. Although I enjoyed Henry Silva as the voice of Bane, if he had to be replaced, they got the right man in the form of Hector Elizondo. I only wish they could have used Two Face, Riddler, or the scary new version of the Scarecrow.<br /><br />The musical score and especially the soft sounding intro were superb. I wish that was on a soundtrack and I especially enjoyed the beautiful and talented Cherie in the Iceberg Lounge along with her song, Betcha Neva. While some feel that this movie is weaker than the Mask of the Phantasm and Subzero, I find it just as strong and enjoyable as the rest, plus like I said earlier, it\\'s a full length movie based off the Gotham Knights version of Batman, which I think gives a good balance. I would at least recommend renting this DVD first before buying it for those who might be leery of this movie, but personally, it\\'s well worth the purchase. I give Mystery of the Batwoman a 9.']\n",
            "\n",
            "labels:  [1 0 1]\n"
          ],
          "name": "stdout"
        }
      ]
    },
    {
      "cell_type": "markdown",
      "metadata": {
        "id": "s5eWCo88voPY"
      },
      "source": [
        "## Create the text encoder"
      ]
    },
    {
      "cell_type": "markdown",
      "metadata": {
        "id": "TFevcItw15P_"
      },
      "source": [
        "The raw text loaded by `tfds` needs to be processed before it can be used in a model. The simplest way to process text for training is using the `experimental.preprocessing.TextVectorization` layer. This layer has many capabilities, but this tutorial sticks to the default behavior.\n",
        "\n",
        "Create the layer, and pass the dataset's text to the layer's `.adapt` method:"
      ]
    },
    {
      "cell_type": "code",
      "metadata": {
        "id": "uC25Lu1Yvuqy"
      },
      "source": [
        "VOCAB_SIZE = 1000\n",
        "encoder = tf.keras.layers.experimental.preprocessing.TextVectorization(\n",
        "    max_tokens=VOCAB_SIZE)\n",
        "encoder.adapt(train_dataset.map(lambda text, label: text))"
      ],
      "execution_count": 8,
      "outputs": []
    },
    {
      "cell_type": "markdown",
      "metadata": {
        "id": "IuQzVBbe3Ldu"
      },
      "source": [
        "The `.adapt` method sets the layer's vocabulary. Here are the first 20 tokens. After the padding and unknown tokens they're sorted by frequency: "
      ]
    },
    {
      "cell_type": "code",
      "metadata": {
        "id": "tBoyjjWg0Ac9",
        "colab": {
          "base_uri": "https://localhost:8080/"
        },
        "outputId": "22ca7e35-de71-4adb-d5ee-011604711c4a"
      },
      "source": [
        "vocab = np.array(encoder.get_vocabulary())\n",
        "vocab[:20]"
      ],
      "execution_count": 9,
      "outputs": [
        {
          "output_type": "execute_result",
          "data": {
            "text/plain": [
              "array(['', '[UNK]', 'the', 'and', 'a', 'of', 'to', 'is', 'in', 'it', 'i',\n",
              "       'this', 'that', 'br', 'was', 'as', 'for', 'with', 'movie', 'but'],\n",
              "      dtype='<U14')"
            ]
          },
          "metadata": {
            "tags": []
          },
          "execution_count": 9
        }
      ]
    },
    {
      "cell_type": "markdown",
      "metadata": {
        "id": "mjId5pua3jHQ"
      },
      "source": [
        "Once the vocabulary is set, the layer can encode text into indices. The tensors of indices are 0-padded to the longest sequence in the batch (unless you set a fixed `output_sequence_length`):"
      ]
    },
    {
      "cell_type": "code",
      "metadata": {
        "id": "RGc7C9WiwRWs",
        "colab": {
          "base_uri": "https://localhost:8080/"
        },
        "outputId": "d9e59609-60c7-41f2-f534-324c8e16ab6b"
      },
      "source": [
        "encoded_example = encoder(example)[:3].numpy()\n",
        "encoded_example"
      ],
      "execution_count": 10,
      "outputs": [
        {
          "output_type": "execute_result",
          "data": {
            "text/plain": [
              "array([[ 10,   1,   4, ...,   0,   0,   0],\n",
              "       [ 15,  73,  15, ...,   0,   0,   0],\n",
              "       [ 11,   1, 194, ...,   0,   0,   0]])"
            ]
          },
          "metadata": {
            "tags": []
          },
          "execution_count": 10
        }
      ]
    },
    {
      "cell_type": "markdown",
      "metadata": {
        "id": "F5cjz0bS39IN"
      },
      "source": [
        "With the default settings, the process is not completely reversible. There are three main reasons for that:\n",
        "\n",
        "1. The default value for `preprocessing.TextVectorization`'s `standardize` argument is `\"lower_and_strip_punctuation\"`.\n",
        "2. The limited vocabulary size and lack of character-based fallback results in some unknown tokens."
      ]
    },
    {
      "cell_type": "code",
      "metadata": {
        "id": "N_tD0QY5wXaK",
        "colab": {
          "base_uri": "https://localhost:8080/"
        },
        "outputId": "00d2a8a8-e6f7-4dc3-a296-2747f749f2b7"
      },
      "source": [
        "for n in range(3):\n",
        "  print(\"Original: \", example[n].numpy())\n",
        "  print(\"Round-trip: \", \" \".join(vocab[encoded_example[n]]))\n",
        "  print()"
      ],
      "execution_count": 11,
      "outputs": [
        {
          "output_type": "stream",
          "text": [
            "Original:  b\"I married a Japanese woman 14 years ago. We're still together.<br /><br />However in the 1950's it would never have been as easy.<br /><br />Life in the military had been mined for action, drama, and comedy for years by this point. Mined to death. The mixed relationships gave it new ground to cover. This is old hat today, but then...? Marrying an Asian back then meant you either owed somebody something or you were a freak of some sort. This touched on both possibilities along with the third. Maybe it IS love? <br /><br />Brando did his usual good job. Garner did a better job than he usually does. He's good, but this showed how good he could be. Umecki-chan had a helluva debut here and while I think she earned her statue, she didn't really stretch. It was a role that no one who hadn't been overseas would have recognized and the newness was the corker.<br /><br />The real scene stealer was Red Buttons. Red was the best thing in this film. Bank on it. And the Japanese lifestyles were shown in an admirable light as well.<br /><br />A classic.\"\n",
            "Round-trip:  i [UNK] a japanese woman [UNK] years ago were still [UNK] br however in the [UNK] it would never have been as [UNK] br life in the [UNK] had been [UNK] for action drama and comedy for years by this point [UNK] to death the [UNK] [UNK] gave it new [UNK] to [UNK] this is old [UNK] today but then [UNK] an [UNK] back then meant you either [UNK] [UNK] something or you were a [UNK] of some sort this [UNK] on both [UNK] along with the third maybe it is love br br [UNK] did his usual good job [UNK] did a better job than he usually does hes good but this [UNK] how good he could be [UNK] had a [UNK] [UNK] here and while i think she [UNK] her [UNK] she didnt really [UNK] it was a role that no one who [UNK] been [UNK] would have [UNK] and the [UNK] was the [UNK] br the real scene [UNK] was red [UNK] red was the best thing in this film [UNK] on it and the japanese [UNK] were shown in an [UNK] light as [UNK] br a classic                                                                                                                                                                                                                                                                                                                                                                                                                                 \n",
            "\n",
            "Original:  b\"As much as I dislike saying 'me too' in response to other comments - it's completely true that the first 30 minutes of this film have nothing whatsoever to do with the endless dirge that comprises the following 90.<br /><br />Having been banned somewhere doesn't make a film watchable. Just because it doesn't resemble a Hollywood product does not make it credible.<br /><br />Worse yet, in addition to no discernible plot (other than there are lots of muddy places in Russia and many people, even very old women, drink lots of vodka) a number of visuals are so unnecessarily nauseating I'm in to my second package of Rolaids.<br /><br />As for spoilers - well, the film is so devoid of any narrative thread I couldn't write one if I tried.<br /><br />Don't waste your time or money, and don't confuse this with good Russian cinema.\"\n",
            "Round-trip:  as much as i [UNK] saying me too in [UNK] to other comments its completely true that the first [UNK] minutes of this film have nothing [UNK] to do with the [UNK] [UNK] that [UNK] the [UNK] [UNK] br having been [UNK] [UNK] doesnt make a film [UNK] just because it doesnt [UNK] a hollywood [UNK] does not make it [UNK] br worse yet in [UNK] to no [UNK] plot other than there are lots of [UNK] [UNK] in [UNK] and many people even very old women [UNK] lots of [UNK] a number of [UNK] are so [UNK] [UNK] im in to my second [UNK] of [UNK] br as for [UNK] well the film is so [UNK] of any [UNK] [UNK] i couldnt write one if i [UNK] br dont waste your time or money and dont [UNK] this with good [UNK] cinema                                                                                                                                                                                                                                                                                                                                                                                                                                                                                 \n",
            "\n",
            "Original:  b'THIS POST MAY CONTAIN SPOILERS :<br /><br />Although it was 5 years after the series ended and WB was currently working on Justice League, this animated movie is a welcome addition to the video library. Why? Well, if Mask of the Phantasm compliments the first 70 episodes of Batman: The Animated Series and SubZero compliments the 15 episodes of the Adventures of Batman and Robin, then Mystery of the Batwoman compliments the final 24 episodes of the Gotham Knights version of Batman. Kevin Conroy once again delivers a voice over performance that is nothing short of excellence and perfection. I admit I was a bit leery when I heard about Batwoman and all I could think about were the old 50\\'s comics of Batman. But I was blown away by the Batwoman character, her look, her costume (which I assumed inspired Bruce Wayne to create the costume on Batman Beyond)and the fact that this movie keeps you guessing who Batwoman is all the way through. If you want to know who Batwoman is, then buy or rent the DVD. Barbara Gordon makes a cameo appearance and I think the writers were trying to hint that Bruce and Barbara had something going on between them like they did in Batman Beyond. Tim Drake appears as Robin, but his role is a small one and sadly, there is no sign of or mention of Dick Grayson alias Nightwing, which leads me to believe he has established himself in Bludhaven (his city in the comics).<br /><br />Of the three suspects for Batwoman, my favorite is Kathy Duquesne, who looks an awful lot like Halle Berry. Kelly Ripa did a great job as one of the other suspects. When it comes to the villains, I\\'m glad the Penguin was one of them, but I did not like the fact that they replaced Paul Williams with David Ogden Stiers. Pengy just didn\\'t sound right. Same thing goes for Robin. The new guy did okay, but just as I was starting to get used to Matt Valencia, they replaced him. It\\'s interesting to note that Kevin Michael Richardson, who voices Carlton Duquesne is now the voice of the Joker in \"The Batman\" series. And we finally see what Rupert Thorne looks like revamped since he didn\\'t show up in the Gotham Knights episodes. The late John Vernon will be missed. Although I enjoyed Henry Silva as the voice of Bane, if he had to be replaced, they got the right man in the form of Hector Elizondo. I only wish they could have used Two Face, Riddler, or the scary new version of the Scarecrow.<br /><br />The musical score and especially the soft sounding intro were superb. I wish that was on a soundtrack and I especially enjoyed the beautiful and talented Cherie in the Iceberg Lounge along with her song, Betcha Neva. While some feel that this movie is weaker than the Mask of the Phantasm and Subzero, I find it just as strong and enjoyable as the rest, plus like I said earlier, it\\'s a full length movie based off the Gotham Knights version of Batman, which I think gives a good balance. I would at least recommend renting this DVD first before buying it for those who might be leery of this movie, but personally, it\\'s well worth the purchase. I give Mystery of the Batwoman a 9.'\n",
            "Round-trip:  this [UNK] may [UNK] [UNK] br br although it was 5 years after the series [UNK] and [UNK] was [UNK] working on [UNK] [UNK] this [UNK] movie is a [UNK] [UNK] to the video [UNK] why well if [UNK] of the [UNK] [UNK] the first [UNK] episodes of [UNK] the [UNK] series and [UNK] [UNK] the [UNK] episodes of the [UNK] of [UNK] and [UNK] then mystery of the [UNK] [UNK] the final [UNK] episodes of the [UNK] [UNK] version of [UNK] [UNK] [UNK] once again [UNK] a voice over performance that is nothing short of [UNK] and [UNK] i admit i was a bit [UNK] when i heard about [UNK] and all i could think about were the old [UNK] [UNK] of [UNK] but i was [UNK] away by the [UNK] character her look her [UNK] which i [UNK] [UNK] [UNK] [UNK] to create the [UNK] on [UNK] [UNK] the fact that this movie keeps you [UNK] who [UNK] is all the way through if you want to know who [UNK] is then buy or rent the dvd [UNK] [UNK] makes a [UNK] [UNK] and i think the writers were trying to [UNK] that [UNK] and [UNK] had something going on between them like they did in [UNK] beyond [UNK] [UNK] appears as [UNK] but his role is a small one and [UNK] there is no [UNK] of or mention of [UNK] [UNK] [UNK] [UNK] which leads me to believe he has [UNK] himself in [UNK] his city in the [UNK] br of the three [UNK] for [UNK] my favorite is [UNK] [UNK] who looks an awful lot like [UNK] [UNK] [UNK] [UNK] did a great job as one of the other [UNK] when it comes to the [UNK] im [UNK] the [UNK] was one of them but i did not like the fact that they [UNK] paul [UNK] with david [UNK] [UNK] [UNK] just didnt sound right same thing goes for [UNK] the new guy did okay but just as i was [UNK] to get used to [UNK] [UNK] they [UNK] him its interesting to note that [UNK] michael [UNK] who [UNK] [UNK] [UNK] is now the voice of the [UNK] in the [UNK] series and we finally see what [UNK] [UNK] looks like [UNK] since he didnt show up in the [UNK] [UNK] episodes the late john [UNK] will be [UNK] although i enjoyed [UNK] [UNK] as the voice of [UNK] if he had to be [UNK] they got the right man in the form of [UNK] [UNK] i only wish they could have used two face [UNK] or the scary new version of the [UNK] br the musical score and especially the [UNK] [UNK] [UNK] were superb i wish that was on a soundtrack and i especially enjoyed the beautiful and [UNK] [UNK] in the [UNK] [UNK] along with her song [UNK] [UNK] while some feel that this movie is [UNK] than the [UNK] of the [UNK] and [UNK] i find it just as strong and enjoyable as the rest plus like i said earlier its a full [UNK] movie based off the [UNK] [UNK] version of [UNK] which i think gives a good [UNK] i would at least recommend [UNK] this dvd first before [UNK] it for those who might be [UNK] of this movie but [UNK] its well worth the [UNK] i give mystery of the [UNK] a [UNK]                                           \n",
            "\n"
          ],
          "name": "stdout"
        }
      ]
    },
    {
      "cell_type": "markdown",
      "metadata": {
        "id": "bjUqGVBxGw-t"
      },
      "source": [
        "## Create the model"
      ]
    },
    {
      "cell_type": "markdown",
      "metadata": {
        "id": "W7zsmInBOCPO"
      },
      "source": [
        "![A drawing of the information flow in the model](https://github.com/tensorflow/docs/blob/master/site/en/tutorials/text/images/bidirectional.png?raw=1)"
      ]
    },
    {
      "cell_type": "markdown",
      "metadata": {
        "id": "bgs6nnSTGw-t"
      },
      "source": [
        "Above is a diagram of the model. \n",
        "\n",
        "1. This model can be build as a `tf.keras.Sequential`.\n",
        "\n",
        "2. The first layer is the `encoder`, which converts the text to a sequence of token indices.\n",
        "\n",
        "3. After the encoder is an embedding layer. An embedding layer stores one vector per word. When called, it converts the sequences of word indices to sequences of vectors. These vectors are trainable. After training (on enough data), words with similar meanings often have similar vectors.\n",
        "\n",
        "  This index-lookup is much more efficient than the equivalent operation of passing a one-hot encoded vector through a `tf.keras.layers.Dense` layer.\n",
        "\n",
        "4. A recurrent neural network (RNN) processes sequence input by iterating through the elements. RNNs pass the outputs from one timestep to their input on the next timestep.\n",
        "\n",
        "  The `tf.keras.layers.Bidirectional` wrapper can also be used with an RNN layer. This propagates the input forward and backwards through the RNN layer and then concatenates the final output. \n",
        "\n",
        "  * The main advantage of a bidirectional RNN is that the signal from the beginning of the input doesn't need to be processed all the way through every timestep to affect the output.  \n",
        "\n",
        "  * The main disadvantage of a bidirectional RNN is that you can't efficiently stream predictions as words are being added to the end.\n",
        "\n",
        "5. After the RNN has converted the sequence to a single vector the two `layers.Dense` do some final processing, and convert from this vector representation to a single logit as the classification output. \n"
      ]
    },
    {
      "cell_type": "markdown",
      "metadata": {
        "id": "V4fodCI7soQi"
      },
      "source": [
        "The code to implement this is below:"
      ]
    },
    {
      "cell_type": "code",
      "metadata": {
        "id": "LwfoBkmRYcP3"
      },
      "source": [
        "model = tf.keras.Sequential([\n",
        "    encoder,\n",
        "    tf.keras.layers.Embedding(\n",
        "        input_dim=len(encoder.get_vocabulary()),\n",
        "        output_dim=64,\n",
        "        # Use masking to handle the variable sequence lengths\n",
        "        mask_zero=True),\n",
        "    tf.keras.layers.LSTM(64),\n",
        "    tf.keras.layers.Dense(64, activation='relu'),\n",
        "    tf.keras.layers.Dense(1)\n",
        "])"
      ],
      "execution_count": 12,
      "outputs": []
    },
    {
      "cell_type": "markdown",
      "metadata": {
        "id": "QIGmIGkkouUb"
      },
      "source": [
        "Please note that Keras sequential model is used here since all the layers in the model only have single input and produce single output. In case you want to use stateful RNN layer, you might want to build your model with Keras functional API or model subclassing so that you can retrieve and reuse the RNN layer states. Please check [Keras RNN guide](https://www.tensorflow.org/guide/keras/rnn#rnn_state_reuse) for more details."
      ]
    },
    {
      "cell_type": "markdown",
      "metadata": {
        "id": "kF-PsCk1LwjY"
      },
      "source": [
        "The embedding layer [uses masking](https://www.tensorflow.org/guide/keras/masking_and_padding) to handle the varying sequence-lengths. All the layers after the `Embedding` support masking:"
      ]
    },
    {
      "cell_type": "code",
      "metadata": {
        "id": "87a8-CwfKebw",
        "colab": {
          "base_uri": "https://localhost:8080/"
        },
        "outputId": "45ed8435-9a2d-47de-a6dc-c52a3b1c4b3b"
      },
      "source": [
        "print([layer.supports_masking for layer in model.layers])"
      ],
      "execution_count": 13,
      "outputs": [
        {
          "output_type": "stream",
          "text": [
            "[False, True, True, True, True]\n"
          ],
          "name": "stdout"
        }
      ]
    },
    {
      "cell_type": "markdown",
      "metadata": {
        "id": "ZlS0iaUIWLpI"
      },
      "source": [
        "To confirm that this works as expected, evaluate a sentence twice. First, alone so there's no padding to mask:"
      ]
    },
    {
      "cell_type": "markdown",
      "metadata": {
        "id": "sRI776ZcH3Tf"
      },
      "source": [
        "Compile the Keras model to configure the training process:"
      ]
    },
    {
      "cell_type": "code",
      "metadata": {
        "id": "kj2xei41YZjC"
      },
      "source": [
        "model.compile(loss=tf.keras.losses.BinaryCrossentropy(from_logits=True),\n",
        "              optimizer=tf.keras.optimizers.Adam(1e-4),\n",
        "              metrics=['accuracy'])"
      ],
      "execution_count": 14,
      "outputs": []
    },
    {
      "cell_type": "markdown",
      "metadata": {
        "id": "zIwH3nto596k"
      },
      "source": [
        "## Train the model"
      ]
    },
    {
      "cell_type": "code",
      "metadata": {
        "id": "hw86wWS4YgR2",
        "colab": {
          "base_uri": "https://localhost:8080/"
        },
        "outputId": "1ba96563-a1c8-4649-c947-436b3be56a56"
      },
      "source": [
        "history = model.fit(train_dataset, epochs=10,\n",
        "                    validation_data=test_dataset,\n",
        "                    validation_steps=30)"
      ],
      "execution_count": 15,
      "outputs": [
        {
          "output_type": "stream",
          "text": [
            "Epoch 1/10\n",
            "391/391 [==============================] - 56s 52ms/step - loss: 0.6858 - accuracy: 0.5072 - val_loss: 0.5168 - val_accuracy: 0.7500\n",
            "Epoch 2/10\n",
            "391/391 [==============================] - 20s 49ms/step - loss: 0.4633 - accuracy: 0.7856 - val_loss: 0.4173 - val_accuracy: 0.8057\n",
            "Epoch 3/10\n",
            "391/391 [==============================] - 20s 49ms/step - loss: 0.3636 - accuracy: 0.8423 - val_loss: 0.3475 - val_accuracy: 0.8536\n",
            "Epoch 4/10\n",
            "391/391 [==============================] - 19s 48ms/step - loss: 0.3373 - accuracy: 0.8570 - val_loss: 0.3346 - val_accuracy: 0.8552\n",
            "Epoch 5/10\n",
            "391/391 [==============================] - 19s 48ms/step - loss: 0.3231 - accuracy: 0.8654 - val_loss: 0.3549 - val_accuracy: 0.8411\n",
            "Epoch 6/10\n",
            "391/391 [==============================] - 19s 48ms/step - loss: 0.3107 - accuracy: 0.8733 - val_loss: 0.3272 - val_accuracy: 0.8604\n",
            "Epoch 7/10\n",
            "391/391 [==============================] - 19s 48ms/step - loss: 0.3041 - accuracy: 0.8738 - val_loss: 0.3294 - val_accuracy: 0.8536\n",
            "Epoch 8/10\n",
            "391/391 [==============================] - 19s 49ms/step - loss: 0.3067 - accuracy: 0.8704 - val_loss: 0.3250 - val_accuracy: 0.8625\n",
            "Epoch 9/10\n",
            "391/391 [==============================] - 20s 49ms/step - loss: 0.3078 - accuracy: 0.8728 - val_loss: 0.3282 - val_accuracy: 0.8594\n",
            "Epoch 10/10\n",
            "391/391 [==============================] - 20s 49ms/step - loss: 0.3019 - accuracy: 0.8747 - val_loss: 0.3279 - val_accuracy: 0.8542\n"
          ],
          "name": "stdout"
        }
      ]
    },
    {
      "cell_type": "code",
      "metadata": {
        "id": "BaNbXi43YgUT",
        "colab": {
          "base_uri": "https://localhost:8080/"
        },
        "outputId": "fda545e9-3399-43c5-e821-afc9679bc0ad"
      },
      "source": [
        "test_loss, test_acc = model.evaluate(test_dataset)\n",
        "\n",
        "print('Test Loss:', test_loss)\n",
        "print('Test Accuracy:', test_acc)"
      ],
      "execution_count": 16,
      "outputs": [
        {
          "output_type": "stream",
          "text": [
            "391/391 [==============================] - 10s 27ms/step - loss: 0.3212 - accuracy: 0.8548\n",
            "Test Loss: 0.3211696743965149\n",
            "Test Accuracy: 0.8547599911689758\n"
          ],
          "name": "stdout"
        }
      ]
    },
    {
      "cell_type": "code",
      "metadata": {
        "id": "OZmwt_mzaQJk",
        "colab": {
          "base_uri": "https://localhost:8080/",
          "height": 519
        },
        "outputId": "6aa38118-fd16-4e74-e87b-431c289fc62f"
      },
      "source": [
        "plt.figure(figsize=(16, 8))\n",
        "plt.subplot(1, 2, 1)\n",
        "plot_graphs(history, 'accuracy')\n",
        "plt.ylim(None, 1)\n",
        "plt.subplot(1, 2, 2)\n",
        "plot_graphs(history, 'loss')\n",
        "plt.ylim(0, None)"
      ],
      "execution_count": 17,
      "outputs": [
        {
          "output_type": "execute_result",
          "data": {
            "text/plain": [
              "(0.0, 0.671456228196621)"
            ]
          },
          "metadata": {
            "tags": []
          },
          "execution_count": 17
        },
        {
          "output_type": "display_data",
          "data": {
            "image/png": "[encoded data removed]",
            "text/plain": [
              "<Figure size 1152x576 with 2 Axes>"
            ]
          },
          "metadata": {
            "tags": [],
            "needs_background": "light"
          }
        }
      ]
    },
    {
      "cell_type": "markdown",
      "metadata": {
        "id": "DwSE_386uhxD"
      },
      "source": [
        "Run a prediction on a new sentence:\n",
        "\n",
        "If the prediction is >= 0.0, it is positive else it is negative."
      ]
    },
    {
      "cell_type": "code",
      "metadata": {
        "id": "ZXgfQSgRW6zU"
      },
      "source": [
        "sample_text = ('The movie was cool. The animation and the graphics '\n",
        "               'were out of this world. I would recommend this movie.')\n",
        "predictions = model.predict(np.array([sample_text]))"
      ],
      "execution_count": 18,
      "outputs": []
    },
    {
      "cell_type": "markdown",
      "metadata": {
        "id": "7g1evcaRpTKm"
      },
      "source": [
        "## Stack two or more LSTM layers\n",
        "\n",
        "Keras recurrent layers have two available modes that are controlled by the `return_sequences` constructor argument:\n",
        "\n",
        "* If `False` it returns only the last output for each input sequence (a 2D tensor of shape (batch_size, output_features)). This is the default, used in the previous model.\n",
        "\n",
        "* If `True` the full sequences of successive outputs for each timestep is returned (a 3D tensor of shape `(batch_size, timesteps, output_features)`).\n",
        "\n",
        "Here is what the flow of information looks like with `return_sequences=True`:\n",
        "\n",
        "![layered_bidirectional](https://github.com/tensorflow/docs/blob/master/site/en/tutorials/text/images/layered_bidirectional.png?raw=1)"
      ]
    },
    {
      "cell_type": "markdown",
      "metadata": {
        "id": "wbSClCrG1z8l"
      },
      "source": [
        "The interesting thing about using an `RNN` with `return_sequences=True` is that the output still has 3-axes, like the input, so it can be passed to another RNN layer, like this:"
      ]
    },
    {
      "cell_type": "code",
      "metadata": {
        "id": "jo1jjO3vn0jo"
      },
      "source": [
        "model = tf.keras.Sequential([\n",
        "    encoder,\n",
        "    tf.keras.layers.Embedding(len(encoder.get_vocabulary()), 64, mask_zero=True),\n",
        "    tf.keras.layers.LSTM(64,  return_sequences=True),\n",
        "    tf.keras.layers.LSTM(32),\n",
        "    tf.keras.layers.Dense(64, activation='relu'),\n",
        "    tf.keras.layers.Dropout(0.5),\n",
        "    tf.keras.layers.Dense(1)\n",
        "])"
      ],
      "execution_count": 19,
      "outputs": []
    },
    {
      "cell_type": "code",
      "metadata": {
        "id": "hEPV5jVGp-is"
      },
      "source": [
        "model.compile(loss=tf.keras.losses.BinaryCrossentropy(from_logits=True),\n",
        "              optimizer=tf.keras.optimizers.Adam(1e-4),\n",
        "              metrics=['accuracy'])"
      ],
      "execution_count": 20,
      "outputs": []
    },
    {
      "cell_type": "code",
      "metadata": {
        "id": "LeSE-YjdqAeN",
        "colab": {
          "base_uri": "https://localhost:8080/"
        },
        "outputId": "14b1aad2-f966-48f4-c598-350872b3acb0"
      },
      "source": [
        "history = model.fit(train_dataset, epochs=10,\n",
        "                    validation_data=test_dataset,\n",
        "                    validation_steps=30)"
      ],
      "execution_count": 21,
      "outputs": [
        {
          "output_type": "stream",
          "text": [
            "Epoch 1/10\n",
            "391/391 [==============================] - 40s 82ms/step - loss: 0.6769 - accuracy: 0.5202 - val_loss: 0.4288 - val_accuracy: 0.8120\n",
            "Epoch 2/10\n",
            "391/391 [==============================] - 31s 77ms/step - loss: 0.4045 - accuracy: 0.8184 - val_loss: 0.3603 - val_accuracy: 0.8396\n",
            "Epoch 3/10\n",
            "391/391 [==============================] - 31s 77ms/step - loss: 0.3524 - accuracy: 0.8534 - val_loss: 0.3406 - val_accuracy: 0.8568\n",
            "Epoch 4/10\n",
            "391/391 [==============================] - 31s 78ms/step - loss: 0.3390 - accuracy: 0.8576 - val_loss: 0.3446 - val_accuracy: 0.8427\n",
            "Epoch 5/10\n",
            "391/391 [==============================] - 31s 78ms/step - loss: 0.3284 - accuracy: 0.8636 - val_loss: 0.3374 - val_accuracy: 0.8526\n",
            "Epoch 6/10\n",
            "391/391 [==============================] - 31s 78ms/step - loss: 0.3246 - accuracy: 0.8620 - val_loss: 0.3343 - val_accuracy: 0.8531\n",
            "Epoch 7/10\n",
            "391/391 [==============================] - 31s 78ms/step - loss: 0.3203 - accuracy: 0.8663 - val_loss: 0.3391 - val_accuracy: 0.8453\n",
            "Epoch 8/10\n",
            "391/391 [==============================] - 31s 78ms/step - loss: 0.3182 - accuracy: 0.8687 - val_loss: 0.3586 - val_accuracy: 0.8281\n",
            "Epoch 9/10\n",
            "391/391 [==============================] - 31s 77ms/step - loss: 0.3142 - accuracy: 0.8650 - val_loss: 0.3367 - val_accuracy: 0.8557\n",
            "Epoch 10/10\n",
            "391/391 [==============================] - 31s 78ms/step - loss: 0.3107 - accuracy: 0.8719 - val_loss: 0.3291 - val_accuracy: 0.8599\n"
          ],
          "name": "stdout"
        }
      ]
    },
    {
      "cell_type": "code",
      "metadata": {
        "id": "_LdwilM1qPM3",
        "colab": {
          "base_uri": "https://localhost:8080/"
        },
        "outputId": "cbc7e021-6e44-4d45-adb6-31992bd13bba"
      },
      "source": [
        "test_loss, test_acc = model.evaluate(test_dataset)\n",
        "\n",
        "print('Test Loss:', test_loss)\n",
        "print('Test Accuracy:', test_acc)"
      ],
      "execution_count": 22,
      "outputs": [
        {
          "output_type": "stream",
          "text": [
            "391/391 [==============================] - 15s 39ms/step - loss: 0.3213 - accuracy: 0.8585\n",
            "Test Loss: 0.32129040360450745\n",
            "Test Accuracy: 0.8584799766540527\n"
          ],
          "name": "stdout"
        }
      ]
    },
    {
      "cell_type": "code",
      "metadata": {
        "id": "ykUKnAoqbycW",
        "colab": {
          "base_uri": "https://localhost:8080/"
        },
        "outputId": "da0a8889-6def-4dac-9fa8-71d240e9055d"
      },
      "source": [
        "# predict on a sample text without padding.\n",
        "\n",
        "sample_text = ('The movie was not good. The animation and the graphics '\n",
        "               'were terrible. I would not recommend this movie.')\n",
        "predictions = model.predict(np.array([sample_text]))\n",
        "print(predictions)"
      ],
      "execution_count": 23,
      "outputs": [
        {
          "output_type": "stream",
          "text": [
            "[[-1.3884038]]\n"
          ],
          "name": "stdout"
        }
      ]
    },
    {
      "cell_type": "code",
      "metadata": {
        "id": "_YYub0EDtwCu",
        "colab": {
          "base_uri": "https://localhost:8080/",
          "height": 388
        },
        "outputId": "a5f6ffda-e666-471b-d206-729fa0d657b0"
      },
      "source": [
        "plt.figure(figsize=(16, 6))\n",
        "plt.subplot(1, 2, 1)\n",
        "plot_graphs(history, 'accuracy')\n",
        "plt.subplot(1, 2, 2)\n",
        "plot_graphs(history, 'loss')"
      ],
      "execution_count": 24,
      "outputs": [
        {
          "output_type": "display_data",
          "data": {
            "image/png": "[encoded data removed]",
            "text/plain": [
              "<Figure size 1152x432 with 2 Axes>"
            ]
          },
          "metadata": {
            "tags": [],
            "needs_background": "light"
          }
        }
      ]
    },
    {
      "cell_type": "markdown",
      "metadata": {
        "id": "9xvpE3BaGw_V"
      },
      "source": [
        "Check out other existing recurrent layers such as [GRU layers](https://www.tensorflow.org/api_docs/python/tf/keras/layers/GRU).\n",
        "\n",
        "If you're interestied in building custom RNNs, see the [Keras RNN Guide](https://www.tensorflow.org/guide/keras/rnn).\n"
      ]
    },
    {
      "cell_type": "code",
      "metadata": {
        "id": "mc3qCDUoFfsR"
      },
      "source": [
        ""
      ],
      "execution_count": 24,
      "outputs": []
    }
  ]
}