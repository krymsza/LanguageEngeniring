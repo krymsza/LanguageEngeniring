{
  "nbformat": 4,
  "nbformat_minor": 0,
  "metadata": {
    "colab": {
      "name": "eliza.ipynb",
      "provenance": []
    },
    "kernelspec": {
      "name": "python3",
      "display_name": "Python 3"
    }
  },
  "cells": [
    {
      "cell_type": "markdown",
      "metadata": {
        "id": "n6aPIsOy8GCu",
        "colab_type": "text"
      },
      "source": [
        "## ELIZA\n",
        "\n",
        "Copyright (C) 2019 Szymon Jessa"
      ]
    },
    {
      "cell_type": "markdown",
      "metadata": {
        "id": "sj_ou0TJ9oOk",
        "colab_type": "text"
      },
      "source": [
        "### Kod Elizy"
      ]
    },
    {
      "cell_type": "markdown",
      "metadata": {
        "id": "5bfTVo988BuT",
        "colab_type": "text"
      },
      "source": [
        "Importujemy biblioteki:"
      ]
    },
    {
      "cell_type": "code",
      "metadata": {
        "id": "xABK2eZz6nrb",
        "colab_type": "code",
        "colab": {}
      },
      "source": [
        "import doctest\n",
        "import re"
      ],
      "execution_count": 0,
      "outputs": []
    },
    {
      "cell_type": "markdown",
      "metadata": {
        "id": "ONj8dLoY8YSG",
        "colab_type": "text"
      },
      "source": [
        "Tworzymy zmienną globalną, która będzie zapisywała wypowiedzi podczas konwersacji. "
      ]
    },
    {
      "cell_type": "code",
      "metadata": {
        "id": "RAZOp20H8cra",
        "colab_type": "code",
        "colab": {}
      },
      "source": [
        "memstack = []"
      ],
      "execution_count": 0,
      "outputs": []
    },
    {
      "cell_type": "markdown",
      "metadata": {
        "id": "kGdrtTLy9FIP",
        "colab_type": "text"
      },
      "source": [
        "Funkcja odpowiadająca za przetworzenie wypowiedzi użytkownika i zaproponowanie odpowiedzi."
      ]
    },
    {
      "cell_type": "code",
      "metadata": {
        "id": "J-L7oM2m9FTX",
        "colab_type": "code",
        "colab": {}
      },
      "source": [
        "def get_keystack(user_input):\n",
        "    # scan all words in the utterance for keywords one-by-one\n",
        "    # and put tuples (keyword, rank) in the list\n",
        "    # ***CHALLENGE*** modify the code to handle UPPERCASE LETTERS and punctuations\n",
        "    keystack = []\n",
        "    for w in user_input.split():\n",
        "        if w in script:\n",
        "            keystack.append((w, script[w].get(\"rank\", 0)))\n",
        "\n",
        "    # sort keywords by rank, descending\n",
        "    keystack = sorted(keystack, key=lambda i: i[1])\n",
        "\n",
        "    # extract keywords from tuples\n",
        "    keystack = [w for w, r in keystack]\n",
        "\n",
        "    return keystack"
      ],
      "execution_count": 0,
      "outputs": []
    },
    {
      "cell_type": "markdown",
      "metadata": {
        "id": "WnJFrXIo9Fei",
        "colab_type": "text"
      },
      "source": [
        "Funkcja \"zapamiętująca\" słowa kluczowe pojawiające się we wcześniejszej rozmowie:"
      ]
    },
    {
      "cell_type": "code",
      "metadata": {
        "id": "zUYNJwpk9Fp3",
        "colab_type": "code",
        "colab": {}
      },
      "source": [
        "def memorize_user_input(user_input, user_input_trans):\n",
        "    # scan all words for memory keywords\n",
        "    memory_keywords = []\n",
        "    for w in user_input.split():\n",
        "        if w in script_memory:\n",
        "            memory_keywords.append(w)\n",
        "    memory_keywords = list(set(memory_keywords))\n",
        "\n",
        "    for k in memory_keywords:\n",
        "        # use first reassembly rule\n",
        "        # ***CHALLENGE*** modify the code to use more than one reassembly rule!\n",
        "        memresp = re.sub(script_memory[k][\"decomposition\"], script_memory[k][\"reassembly\"][0], user_input_trans)\n",
        "        memstack.append(memresp)\n",
        "\n"
      ],
      "execution_count": 0,
      "outputs": []
    },
    {
      "cell_type": "markdown",
      "metadata": {
        "id": "qxiaTPbI9Fzm",
        "colab_type": "text"
      },
      "source": [
        "Funkcja wybierająca odpowiedź Elizy:"
      ]
    },
    {
      "cell_type": "code",
      "metadata": {
        "id": "wHf9h4qw9F9G",
        "colab_type": "code",
        "colab": {}
      },
      "source": [
        "def process(user_input):\n",
        "    \"\"\" (str) -> str\n",
        "    Return Eliza's answer for given input\n",
        "    Return responses associated with the matched keyword\n",
        "    Return responses for \"none\" keyword or use memory if other keywords not found\n",
        "    \"\"\"\n",
        "\n",
        "    # extract keywords\n",
        "    keystack = get_keystack(user_input)\n",
        "\n",
        "    # transform user input using substitutions\n",
        "    user_input_trans = \" \".join(map(lambda w: substitutions.get(w, w), user_input.split()))\n",
        "\n",
        "    # find a response based on the keywords\n",
        "    resp = \"\"\n",
        "    if keystack:\n",
        "        # get response associated with the highest ranked keyword\n",
        "        kw = keystack[-1] # get top ranked keyword\n",
        "        rule = script[kw] # get script rule (decomposition & reassembly) for this keyword\n",
        "        # check if the decomposition rule cane be applied for the utterance \n",
        "        if re.search(rule[\"decomposition\"], user_input_trans):\n",
        "            # if yes, generate response using the first reassembly rule\n",
        "            trans = rule[\"reassembly\"].pop(0) # pop first reassembly from list\n",
        "            rule[\"reassembly\"].append(trans) # append the reassembly rule to the end of the list\n",
        "            resp = re.sub(rule[\"decomposition\"], trans, user_input_trans) # generate response\n",
        "\n",
        "    # if none keywords or rules were found, try to use memory\n",
        "    if resp == \"\":\n",
        "        if memstack:\n",
        "            resp = memstack.pop(0)\n",
        "        # if there are no responses in memory,\n",
        "        # use default responses associated with special keyword \"none\"\n",
        "        else:\n",
        "            # ***CHALLENGE*** modify the code to support more than one default answer (reassembly rule)\n",
        "            # ***CHALLENGE*** ensure the code won't break if \"none\" key doesn't exist\n",
        "            resp = script[\"none\"][\"reassembly\"][0]\n",
        "\n",
        "    # if possible, generate new responses to be stored in memory for later\n",
        "    memorize_user_input(user_input, user_input_trans)\n",
        "\n",
        "    return str(resp)"
      ],
      "execution_count": 0,
      "outputs": []
    },
    {
      "cell_type": "markdown",
      "metadata": {
        "id": "MfQyELfU9GFn",
        "colab_type": "text"
      },
      "source": [
        "Funkcja do uruchomiania czatu:"
      ]
    },
    {
      "cell_type": "code",
      "metadata": {
        "id": "EpohMxxZ9GPO",
        "colab_type": "code",
        "colab": {}
      },
      "source": [
        "def chat():\n",
        "    \"\"\" () -> None\n",
        "    Allows interaction with Eliza in a loop:\n",
        "    - read input from console\n",
        "    - get Eliza's response using process function\n",
        "    - write Eliza's response to console\n",
        "    - exit if input string length is 0\n",
        "    \"\"\"\n",
        "    \n",
        "    print(\"<hit enter with no input to exit>\")\n",
        "    print(\"Eliza: How do you do. Please tell me your problem\")\n",
        "    while True:\n",
        "        utt = input(\"Student: \")\n",
        "        if not utt:\n",
        "            break\n",
        "\n",
        "        resp = process(utt)\n",
        "        print(\"Eliza: %s\" % resp)"
      ],
      "execution_count": 0,
      "outputs": []
    },
    {
      "cell_type": "markdown",
      "metadata": {
        "id": "vGWpeS0_9usY",
        "colab_type": "text"
      },
      "source": [
        "### Testy\n",
        "\n",
        "Tutaj puszczamy testy dla konkretnych zapytań dla Elizy. Doc testy puszczają dany kod oznaczony ```>>>``` i oczekują odpowiedzi zgodnej z tym, co jest poniżej. Oto przykład:"
      ]
    },
    {
      "cell_type": "code",
      "metadata": {
        "id": "ZpMtxLWB-OsD",
        "colab_type": "code",
        "colab": {}
      },
      "source": [
        "def task0_true():\n",
        "  \"\"\"\n",
        "  >>> 2+2\n",
        "  4\n",
        "  \"\"\""
      ],
      "execution_count": 0,
      "outputs": []
    },
    {
      "cell_type": "code",
      "metadata": {
        "id": "qR7MMVZc-gJu",
        "colab_type": "code",
        "colab": {}
      },
      "source": [
        "def task0_false():\n",
        "  \"\"\"\n",
        "  >>> 2+2\n",
        "  5\n",
        "  \"\"\""
      ],
      "execution_count": 0,
      "outputs": []
    },
    {
      "cell_type": "code",
      "metadata": {
        "id": "HRJXX7Zs-l1m",
        "colab_type": "code",
        "colab": {}
      },
      "source": [
        "doctest.run_docstring_examples(task0_true, globals(), name=\"task0\", verbose=True)"
      ],
      "execution_count": 0,
      "outputs": []
    },
    {
      "cell_type": "code",
      "metadata": {
        "id": "jhYsBBcX_BAD",
        "colab_type": "code",
        "colab": {}
      },
      "source": [
        "doctest.run_docstring_examples(task0_false, globals(), name=\"task0\", verbose=True)"
      ],
      "execution_count": 0,
      "outputs": []
    },
    {
      "cell_type": "code",
      "metadata": {
        "id": "O3_YeY069u3N",
        "colab_type": "code",
        "colab": {}
      },
      "source": [
        "def task1():\n",
        "    \"\"\"\n",
        "    >>> process(\"I have no problems\")\n",
        "    \"Are you saying 'no' just to be negative?\"\n",
        "    >>> process(\"no\")\n",
        "    'You are being a bit negative'\n",
        "    >>> process(\"no\")\n",
        "    'Why not'\n",
        "    \"\"\"\n",
        "    pass"
      ],
      "execution_count": 0,
      "outputs": []
    },
    {
      "cell_type": "code",
      "metadata": {
        "id": "uefTKFoD9vIm",
        "colab_type": "code",
        "colab": {}
      },
      "source": [
        "def task2():\n",
        "    \"\"\"\n",
        "    >>> process(\"hmm\")\n",
        "    'I am not sure I understand you fully'\n",
        "    \"\"\"\n",
        "    pass"
      ],
      "execution_count": 0,
      "outputs": []
    },
    {
      "cell_type": "code",
      "metadata": {
        "id": "j9t7hO2q9vVV",
        "colab_type": "code",
        "colab": {}
      },
      "source": [
        "def task3():\n",
        "    \"\"\"\n",
        "    >>> process(\"no, I am not a negative person\")\n",
        "    'Is it because you are not a negative person that you came to me?'\n",
        "    >>> process(\"no\")\n",
        "    'You are being a bit negative'\n",
        "    \"\"\"\n",
        "    pass"
      ],
      "execution_count": 0,
      "outputs": []
    },
    {
      "cell_type": "code",
      "metadata": {
        "id": "xCDYXNlV94rR",
        "colab_type": "code",
        "colab": {}
      },
      "source": [
        "def task4():\n",
        "    \"\"\"\n",
        "    >>> process(\"you are repeating yourself\")\n",
        "    'What makes you think I am repeating myself?'\n",
        "    >>> process(\"you are kidding me\")\n",
        "    'Does it please you to believe I am kidding you?'\n",
        "    \"\"\"\n",
        "    pass"
      ],
      "execution_count": 0,
      "outputs": []
    },
    {
      "cell_type": "code",
      "metadata": {
        "id": "17e6WdpT943T",
        "colab_type": "code",
        "colab": {}
      },
      "source": [
        "def task5():\n",
        "    \"\"\"\n",
        "    >>> process(\"my wife said I am optimistic\")\n",
        "    'Tell me more about your family'\n",
        "    >>> process(\"now I am sad\")\n",
        "    'Is it because you are sad that you came to me?'\n",
        "    >>> process(\"maybe\")\n",
        "    'But your wife said you are optimistic?'\n",
        "    \"\"\"\n",
        "    pass"
      ],
      "execution_count": 0,
      "outputs": []
    },
    {
      "cell_type": "markdown",
      "metadata": {
        "id": "TKW_pA62949L",
        "colab_type": "text"
      },
      "source": [
        "### Skrypt rozmowy\n",
        "\n",
        "Tutaj znajduje się skrypt rozmowy. W słowniku 'decomposition' to szukane wyrażenia regularne, natomiast 'reassembly' to odpowiedź Elizy. "
      ]
    },
    {
      "cell_type": "code",
      "metadata": {
        "id": "xZI2blNf8Uqq",
        "colab_type": "code",
        "colab": {}
      },
      "source": [
        "script = {\n",
        "    \"no\": {\"decomposition\": r\".*\",\n",
        "           \"reassembly\": [\n",
        "               \"Are you saying 'no' just to be negative?\"]}}"
      ],
      "execution_count": 0,
      "outputs": []
    },
    {
      "cell_type": "markdown",
      "metadata": {
        "id": "Ifz8OTlE96zA",
        "colab_type": "text"
      },
      "source": [
        "Zastępstwa - tutaj możemy zmieniać pewne wyrażenia, żeby płynniej prowadzić rozmowę."
      ]
    },
    {
      "cell_type": "code",
      "metadata": {
        "id": "aua9w4Ea97Dn",
        "colab_type": "code",
        "colab": {}
      },
      "source": [
        "substitutions = {}"
      ],
      "execution_count": 0,
      "outputs": []
    },
    {
      "cell_type": "markdown",
      "metadata": {
        "id": "L-4lZpCF97L6",
        "colab_type": "text"
      },
      "source": [
        "Script memory - tutaj tworzymy skrypt rozmowy (j.w.) ale wykorzystując zapamiętane wcześniej słowa."
      ]
    },
    {
      "cell_type": "code",
      "metadata": {
        "id": "qqvs_HEl97WF",
        "colab_type": "code",
        "colab": {}
      },
      "source": [
        "script_memory = {}"
      ],
      "execution_count": 0,
      "outputs": []
    },
    {
      "cell_type": "markdown",
      "metadata": {
        "id": "hdHZf7FE-GHL",
        "colab_type": "text"
      },
      "source": [
        "W przypadku niektórych testów poniżej mamy do czynienia z losowością, więc czasem trzeba powtórzyć wykonanie go, aby wynik był właściwy."
      ]
    },
    {
      "cell_type": "code",
      "metadata": {
        "id": "wn9vlY7W-GQY",
        "colab_type": "code",
        "colab": {}
      },
      "source": [
        "#doctest.run_docstring_examples(task1, globals(), name=\"task1\", verbose=True)"
      ],
      "execution_count": 0,
      "outputs": []
    },
    {
      "cell_type": "code",
      "metadata": {
        "id": "brEFxEODftlt",
        "colab_type": "code",
        "colab": {}
      },
      "source": [
        "#doctest.run_docstring_examples(task2, globals(), name=\"task2\", verbose=True)\n"
      ],
      "execution_count": 0,
      "outputs": []
    },
    {
      "cell_type": "code",
      "metadata": {
        "id": "zm48COwCftyU",
        "colab_type": "code",
        "colab": {}
      },
      "source": [
        "#doctest.run_docstring_examples(task3, globals(), name=\"task3\", verbose=True)\n"
      ],
      "execution_count": 0,
      "outputs": []
    },
    {
      "cell_type": "code",
      "metadata": {
        "id": "rzZ428QQft79",
        "colab_type": "code",
        "colab": {}
      },
      "source": [
        "#doctest.run_docstring_examples(task4, globals(), name=\"task4\", verbose=True)\n"
      ],
      "execution_count": 0,
      "outputs": []
    },
    {
      "cell_type": "code",
      "metadata": {
        "id": "RJOENtPGfuNB",
        "colab_type": "code",
        "colab": {}
      },
      "source": [
        "#doctest.run_docstring_examples(task4, globals(), name=\"task5\", verbose=True)"
      ],
      "execution_count": 0,
      "outputs": []
    },
    {
      "cell_type": "markdown",
      "metadata": {
        "id": "z5PVFJx1Eiei",
        "colab_type": "text"
      },
      "source": [
        "Tutaj można odpalić rozmowę z Elizą."
      ]
    },
    {
      "cell_type": "code",
      "metadata": {
        "id": "6PgbPkck-GeF",
        "colab_type": "code",
        "colab": {}
      },
      "source": [
        "chat()"
      ],
      "execution_count": 0,
      "outputs": []
    },
    {
      "cell_type": "code",
      "metadata": {
        "id": "L6xdTcqMEmTu",
        "colab_type": "code",
        "colab": {}
      },
      "source": [
        ""
      ],
      "execution_count": 0,
      "outputs": []
    }
  ]
}